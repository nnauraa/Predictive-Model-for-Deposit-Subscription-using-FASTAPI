{
 "cells": [
  {
   "cell_type": "code",
   "execution_count": 14,
   "metadata": {},
   "outputs": [],
   "source": [
    "import pandas as pd\n",
    "from sklearn.model_selection import train_test_split\n",
    "from sklearn.preprocessing import StandardScaler, OneHotEncoder, LabelEncoder\n",
    "from sklearn.impute import SimpleImputer\n",
    "from sklearn.compose import ColumnTransformer\n",
    "from sklearn.pipeline import Pipeline\n",
    "from sklearn.ensemble import RandomForestClassifier\n",
    "import pickle\n",
    "\n",
    "data = pd.read_csv('data_1D.csv').drop(columns=['Unnamed: 0'])  \n"
   ]
  },
  {
   "cell_type": "markdown",
   "metadata": {},
   "source": [
    "# **Pre-Processing**"
   ]
  },
  {
   "cell_type": "code",
   "execution_count": null,
   "metadata": {},
   "outputs": [],
   "source": [
    "X = data.drop(columns=['y'])\n",
    "y = data['y']"
   ]
  },
  {
   "cell_type": "code",
   "execution_count": 20,
   "metadata": {},
   "outputs": [],
   "source": [
    "numeric_features = ['age', 'duration', 'campaign', 'pdays', 'previous']\n",
    "categorical_features = ['job', 'marital', 'education', 'default', 'housing', 'loan', 'contact', 'month', 'day_of_week', 'poutcome']\n",
    "\n",
    "numeric_transformer = Pipeline(steps=[\n",
    "    ('imputer', SimpleImputer(strategy='median')),\n",
    "    ('scaler', StandardScaler())])\n",
    "\n",
    "categorical_transformer = Pipeline(steps=[\n",
    "    ('imputer', SimpleImputer(strategy='constant', fill_value='missing')),\n",
    "    ('onehot', OneHotEncoder(handle_unknown='ignore'))])\n",
    "\n",
    "preprocessor = ColumnTransformer(\n",
    "    transformers=[\n",
    "        ('num', numeric_transformer, numeric_features),\n",
    "        ('cat', categorical_transformer, categorical_features)])\n"
   ]
  },
  {
   "cell_type": "code",
   "execution_count": 23,
   "metadata": {},
   "outputs": [],
   "source": [
    "X_preprocessed = preprocessor.fit_transform(X)"
   ]
  },
  {
   "cell_type": "code",
   "execution_count": 24,
   "metadata": {},
   "outputs": [],
   "source": [
    "label_encoder = LabelEncoder()\n",
    "y_encoded = label_encoder.fit_transform(y)"
   ]
  },
  {
   "cell_type": "markdown",
   "metadata": {},
   "source": [
    "# **Split Data**"
   ]
  },
  {
   "cell_type": "code",
   "execution_count": 25,
   "metadata": {},
   "outputs": [],
   "source": [
    "X_train, X_test, y_train, y_test = train_test_split(X_preprocessed, y_encoded, test_size=0.2, random_state=42)"
   ]
  },
  {
   "cell_type": "markdown",
   "metadata": {},
   "source": [
    "# **Train Data**"
   ]
  },
  {
   "cell_type": "code",
   "execution_count": 29,
   "metadata": {},
   "outputs": [
    {
     "name": "stdout",
     "output_type": "stream",
     "text": [
      "Classification Report for Logistic Regression:\n",
      "               precision    recall  f1-score   support\n",
      "\n",
      "           0       0.91      0.98      0.95      1435\n",
      "           1       0.75      0.35      0.47       213\n",
      "\n",
      "    accuracy                           0.90      1648\n",
      "   macro avg       0.83      0.66      0.71      1648\n",
      "weighted avg       0.89      0.90      0.88      1648\n",
      "\n"
     ]
    }
   ],
   "source": [
    "#Logistic Regression model\n",
    "logreg = LogisticRegression(max_iter=1000)\n",
    "logreg.fit(X_train, y_train)\n",
    "y_pred_logreg = logreg.predict(X_test)\n",
    "\n",
    "report_logreg = classification_report(y_test, y_pred_logreg)\n",
    "print(\"Classification Report for Logistic Regression:\\n\", report_logreg)\n"
   ]
  },
  {
   "cell_type": "code",
   "execution_count": 30,
   "metadata": {},
   "outputs": [
    {
     "name": "stdout",
     "output_type": "stream",
     "text": [
      "Classification Report for Random Forest:\n",
      "               precision    recall  f1-score   support\n",
      "\n",
      "           0       0.91      0.98      0.94      1435\n",
      "           1       0.72      0.33      0.46       213\n",
      "\n",
      "    accuracy                           0.90      1648\n",
      "   macro avg       0.82      0.66      0.70      1648\n",
      "weighted avg       0.88      0.90      0.88      1648\n",
      "\n"
     ]
    }
   ],
   "source": [
    "#Random Forest model\n",
    "rf = RandomForestClassifier(n_estimators=100, random_state=42)\n",
    "rf.fit(X_train, y_train)\n",
    "y_pred_rf = rf.predict(X_test)\n",
    "\n",
    "report_rf = classification_report(y_test, y_pred_rf)\n",
    "print(\"Classification Report for Random Forest:\\n\", report_rf)\n"
   ]
  },
  {
   "cell_type": "code",
   "execution_count": 28,
   "metadata": {},
   "outputs": [
    {
     "name": "stdout",
     "output_type": "stream",
     "text": [
      "Logistic Regression selected as the best model\n"
     ]
    }
   ],
   "source": [
    "logreg_f1 = classification_report(y_test, y_pred_logreg, output_dict=True)['weighted avg']['f1-score']\n",
    "rf_f1 = classification_report(y_test, y_pred_rf, output_dict=True)['weighted avg']['f1-score']\n",
    "\n",
    "if rf_f1 > logreg_f1:\n",
    "    best_model = rf\n",
    "    print(\"Random Forest selected as the best model\")\n",
    "else:\n",
    "    best_model = logreg\n",
    "    print(\"Logistic Regression selected as the best model\")"
   ]
  },
  {
   "cell_type": "markdown",
   "metadata": {},
   "source": [
    "# **Analysis**\n",
    "\n",
    "**Logistic Regression**\n",
    "Akurasi: 90%\n",
    "Precision untuk Kelas 1 (\"yes\"): 0.75\n",
    "Recall untuk Kelas 1 (\"yes\"): 0.35\n",
    "F1-score untuk Kelas 1 (\"yes\"): 0.47\n",
    "\n",
    "**Random Forest**\n",
    "Akurasi: 90%\n",
    "Precision untuk Kelas 1 (\"yes\"): 0.72\n",
    "Recall untuk Kelas 1 (\"yes\"): 0.33\n",
    "F1-score untuk Kelas 1 (\"yes\"): 0.46\n",
    "\n",
    "Logistic Regression memiliki recall yang lebih tinggi untuk Kelas 1, yang berarti lebih baik dalam mengidentifikasi pelanggan yang benar-benar akan berlangganan. Akurasi keseluruhan juga sedikit lebih tinggi pada Logistic Regression. Maka dari itu, Logistic Regression adalah model terbaik."
   ]
  },
  {
   "cell_type": "markdown",
   "metadata": {},
   "source": [
    "# **Save Best Model in Pickle**"
   ]
  },
  {
   "cell_type": "code",
   "execution_count": 31,
   "metadata": {},
   "outputs": [],
   "source": [
    "with open('BestModel.pkl', 'wb') as f:\n",
    "    pickle.dump(rf, f)\n",
    "with open('preprocessor.pkl', 'wb') as f:\n",
    "    pickle.dump(preprocessor, f)\n",
    "with open('labelEncoder.pkl', 'wb') as f:\n",
    "    pickle.dump(label_encoder, f)"
   ]
  }
 ],
 "metadata": {
  "kernelspec": {
   "display_name": "computational_biology",
   "language": "python",
   "name": "python3"
  },
  "language_info": {
   "codemirror_mode": {
    "name": "ipython",
    "version": 3
   },
   "file_extension": ".py",
   "mimetype": "text/x-python",
   "name": "python",
   "nbconvert_exporter": "python",
   "pygments_lexer": "ipython3",
   "version": "3.7.6"
  }
 },
 "nbformat": 4,
 "nbformat_minor": 2
}
